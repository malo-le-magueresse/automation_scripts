{
 "cells": [
  {
   "cell_type": "code",
   "execution_count": 1,
   "id": "6c8b8b60",
   "metadata": {},
   "outputs": [],
   "source": [
    "import os"
   ]
  },
  {
   "cell_type": "code",
   "execution_count": 4,
   "id": "331c6d3f",
   "metadata": {},
   "outputs": [],
   "source": [
    "### PATHS \n",
    "DOWNLOADS_PATH='/Users/mlmg/Downloads'\n",
    "os.chdir(DOWNLOADS_PATH)\n",
    "\n",
    "PICTURES_PATHS='./Sorted downloads/Pictures/'\n",
    "VIDEOS_PATHS ='./Sorted downloads/Videos/'\n",
    "ZIP_PATHS='./Sorted downloads/Zip and installers/'\n",
    "DOCS_PATHS='./Sorted downloads/PDFs/'\n",
    "DATA_PATHS='./Sorted downloads/Data/'\n",
    "OTHER_PATHS='./Sorted downloads/Others/'\n",
    "DIR_PATHS ='./Sorted downloads/Directories/'\n",
    "### FORMATS LISTS\n",
    "PICTURES_FORMATS = ['.apng', '.avif', '.gif', '.jpg', \n",
    "                    '.jpeg', '.png', '.svg', '.webp']\n",
    "VIDEOS_FORMATS = ['.mp4', '.mov', '.avi']\n",
    "ZIP_INSTALLERS_FORMATS = ['.zip', '.dmg']\n",
    "DOCS_PDFS_FORMATS = ['.pdf', '.ppt', '.pages', '.doc', '.docx']\n",
    "DATA_FORMATS = ['.csv', '.xls', '.xlsx', '.xlsm']\n",
    "ALL_FORMATS = [PICTURES_FORMATS, VIDEOS_FORMATS, ZIP_INSTALLERS_FORMATS,\n",
    "              DOCS_PDFS_FORMATS, DATA_FORMATS, DIR_PATHS]\n",
    "\n",
    "### LINKING ALL TOGETHER \n",
    "target_dir = {\n",
    "    PICTURES_PATHS: PICTURES_FORMATS,\n",
    "    VIDEOS_PATHS: VIDEOS_FORMATS,\n",
    "    ZIP_PATHS: ZIP_INSTALLERS_FORMATS,\n",
    "    DOCS_PATHS:DOCS_PDFS_FORMATS,\n",
    "    DATA_PATHS:DATA_FORMATS\n",
    "}\n",
    "\n",
    "\n",
    "os.chdir(DOWNLOADS_PATH)"
   ]
  },
  {
   "cell_type": "code",
   "execution_count": 3,
   "id": "9fdd3314",
   "metadata": {},
   "outputs": [
    {
     "name": "stdout",
     "output_type": "stream",
     "text": [
      "['.apng', '.avif', '.gif', '.jpg', '.jpeg', '.png', '.svg', '.webp']\n",
      "['.mp4', '.mov', '.avi']\n",
      "['.zip', '.dmg']\n",
      "['.pdf', '.ppt', '.pages', '.doc', '.docx']\n",
      "['.csv', '.xls', '.xlsx', '.xlsm']\n"
     ]
    }
   ],
   "source": [
    "for target, extensions in target_dir.items():\n",
    "    print(extensions)\n"
   ]
  },
  {
   "cell_type": "code",
   "execution_count": null,
   "id": "cb32283a",
   "metadata": {},
   "outputs": [],
   "source": []
  },
  {
   "cell_type": "code",
   "execution_count": 36,
   "id": "0a8187c8",
   "metadata": {},
   "outputs": [
    {
     "data": {
      "text/plain": [
       "'/Users/mlmg/Downloads'"
      ]
     },
     "execution_count": 36,
     "metadata": {},
     "output_type": "execute_result"
    }
   ],
   "source": [
    "os.getcwd()"
   ]
  },
  {
   "cell_type": "code",
   "execution_count": 6,
   "id": "15636ec9",
   "metadata": {},
   "outputs": [
    {
     "name": "stdout",
     "output_type": "stream",
     "text": [
      "Old path:./archive (1)\n",
      "New path: ./Sorted downloads/Directories/archive (1)\n",
      "Old path:./.DS_Store\n",
      "New path: ./Sorted downloads/Others/.DS_Store\n",
      "Old path:./favicons\n",
      "New path: ./Sorted downloads/Directories/favicons\n",
      "Old path:./DrawingPathsAndShapes\n",
      "New path: ./Sorted downloads/Directories/DrawingPathsAndShapes\n",
      "Old path:./AAImplementationsTests\n",
      "New path: ./Sorted downloads/Directories/AAImplementationsTests\n",
      "Old path:./drive-download-20210411T161154Z-001\n",
      "New path: ./Sorted downloads/Directories/drive-download-20210411T161154Z-001\n",
      "Old path:./W7 - The Future Is Audio\n",
      "New path: ./Sorted downloads/Directories/W7 - The Future Is Audio\n",
      "Old path:./r-macos-rtools-4.0.0\n",
      "New path: ./Sorted downloads/Directories/r-macos-rtools-4.0.0\n",
      "Old path:./skrappio\n",
      "New path: ./Sorted downloads/Directories/skrappio\n",
      "Old path:./AnimatingViewsAndTransitions\n",
      "New path: ./Sorted downloads/Directories/AnimatingViewsAndTransitions\n",
      "Old path:./Workflows\n",
      "New path: ./Sorted downloads/Directories/Workflows\n",
      "Old path:./vips-8.10.2\n",
      "New path: ./Sorted downloads/Directories/vips-8.10.2\n",
      "Old path:./wetransfer-dcf199\n",
      "New path: ./Sorted downloads/Directories/wetransfer-dcf199\n",
      "Old path:./ParisAntenna\n",
      "New path: ./Sorted downloads/Directories/ParisAntenna\n",
      "Old path:./Sorted downloads\n",
      "New path: ./Sorted downloads/Directories/Sorted downloads\n",
      "Old path:./18.657-fall-2015\n",
      "New path: ./Sorted downloads/Directories/18.657-fall-2015\n",
      "Old path:./BuildingListsAndNavigation\n",
      "New path: ./Sorted downloads/Directories/BuildingListsAndNavigation\n",
      "Old path:./wetransfer-90db8a\n",
      "New path: ./Sorted downloads/Directories/wetransfer-90db8a\n",
      "Old path:./OneDrive_1_1-2-2021\n",
      "New path: ./Sorted downloads/Directories/OneDrive_1_1-2-2021\n",
      "Old path:./Carousel_files\n",
      "New path: ./Sorted downloads/Directories/Carousel_files\n",
      "Old path:./Flexport_Resume_MaloLeMagueresse\n",
      "New path: ./Sorted downloads/Directories/Flexport_Resume_MaloLeMagueresse\n",
      "Old path:./alien-planet-landscape-with-volcano-river-stars-moons-sky-vector-fantasy-illustration-planet-surface-with-desert-mountains-smoke-clouds-from-craters-futuristic-background-gui-game\n",
      "New path: ./Sorted downloads/Directories/alien-planet-landscape-with-volcano-river-stars-moons-sky-vector-fantasy-illustration-planet-surface-with-desert-mountains-smoke-clouds-from-craters-futuristic-background-gui-game\n",
      "Old path:./ml-100k\n",
      "New path: ./Sorted downloads/Directories/ml-100k\n",
      "Old path:./vips-8.10.6\n",
      "New path: ./Sorted downloads/Directories/vips-8.10.6\n",
      "Old path:./Gmail\n",
      "New path: ./Sorted downloads/Directories/Gmail\n",
      "Old path:./HandlingUserInput\n",
      "New path: ./Sorted downloads/Directories/HandlingUserInput\n",
      "Old path:./Slidor - Glide (Windows and Mac)\n",
      "New path: ./Sorted downloads/Directories/Slidor - Glide (Windows and Mac)\n",
      "Old path:./Apple_new-m1-chip_11102020\n",
      "New path: ./Sorted downloads/Directories/Apple_new-m1-chip_11102020\n"
     ]
    }
   ],
   "source": [
    "with os.scandir() as iterator:\n",
    "    for entry in iterator:\n",
    "        # For now, we only move documents. Folders will wait\n",
    "        if entry.is_file():\n",
    "            # What’s the entry\n",
    "            path = entry.path\n",
    "            name = entry.name\n",
    "            fmt = os.path.splitext(entry.path)[1]\n",
    "\n",
    "            # Whether the entry was moved\n",
    "            flag = False\n",
    "\n",
    "            for target, extensions in target_dir.items():\n",
    "                for ext in extensions:\n",
    "                    if fmt == ext:\n",
    "                        flag = True \n",
    "                        target = target\n",
    "                        break\n",
    "                if flag: \n",
    "                    break\n",
    "            if not flag:\n",
    "                target = OTHER_PATHS\n",
    "            print(\"Old path:\" + path)\n",
    "            print(\"New path: \" + target+name)\n",
    "            os.rename(path, target+name)\n",
    "        else:\n",
    "            # What’s the entry\n",
    "            path = entry.path\n",
    "            name = entry.name\n",
    "            target = DIR_PATHS\n",
    "            \n",
    "            print(\"Old path:\" + path)\n",
    "            print(\"New path: \" + target+name)\n",
    "            os.rename(path, target+name)\n"
   ]
  },
  {
   "cell_type": "code",
   "execution_count": 5,
   "id": "399735f6",
   "metadata": {
    "scrolled": true
   },
   "outputs": [
    {
     "name": "stdout",
     "output_type": "stream",
     "text": [
      "./archive (1)\n",
      "./.DS_Store\n",
      "./favicons\n",
      "./DrawingPathsAndShapes\n",
      "./AAImplementationsTests\n",
      "./drive-download-20210411T161154Z-001\n",
      "./W7 - The Future Is Audio\n",
      "./r-macos-rtools-4.0.0\n",
      "./skrappio\n",
      "./AnimatingViewsAndTransitions\n",
      "./Workflows\n",
      "./vips-8.10.2\n",
      "./wetransfer-dcf199\n",
      "./ParisAntenna\n",
      "./Sorted downloads\n",
      "./18.657-fall-2015\n",
      "./BuildingListsAndNavigation\n",
      "./wetransfer-90db8a\n",
      "./OneDrive_1_1-2-2021\n",
      "./Carousel_files\n",
      "./Flexport_Resume_MaloLeMagueresse\n",
      "./alien-planet-landscape-with-volcano-river-stars-moons-sky-vector-fantasy-illustration-planet-surface-with-desert-mountains-smoke-clouds-from-craters-futuristic-background-gui-game\n",
      "./ml-100k\n",
      "./vips-8.10.6\n",
      "./Gmail\n",
      "./HandlingUserInput\n",
      "./Slidor - Glide (Windows and Mac)\n",
      "./Apple_new-m1-chip_11102020\n"
     ]
    }
   ],
   "source": [
    "with os.scandir() as iterator:\n",
    "    for entry in iterator:\n",
    "        print(entry.path)\n"
   ]
  },
  {
   "cell_type": "code",
   "execution_count": null,
   "id": "ba6b75af",
   "metadata": {},
   "outputs": [],
   "source": []
  },
  {
   "cell_type": "code",
   "execution_count": null,
   "id": "5f365b24",
   "metadata": {},
   "outputs": [],
   "source": []
  },
  {
   "cell_type": "code",
   "execution_count": 20,
   "id": "3fb3b888",
   "metadata": {},
   "outputs": [],
   "source": [
    "os.rename('./f375-cyberpunk-18 (1).png', './Sorted downloads/Pictures/cyberpunk.png')"
   ]
  },
  {
   "cell_type": "code",
   "execution_count": 31,
   "id": "8fb97038",
   "metadata": {},
   "outputs": [],
   "source": [
    "entry_path = './PDFsStay Current 1.pdf'\n",
    "name = 'PDFsStay Current 1.pdf'"
   ]
  },
  {
   "cell_type": "code",
   "execution_count": null,
   "id": "b775894d",
   "metadata": {},
   "outputs": [],
   "source": []
  },
  {
   "cell_type": "code",
   "execution_count": 32,
   "id": "8c0a9a10",
   "metadata": {},
   "outputs": [],
   "source": [
    "os.rename(entry_path, DOCS_PATHS+name)"
   ]
  },
  {
   "cell_type": "code",
   "execution_count": null,
   "id": "19f01540",
   "metadata": {},
   "outputs": [],
   "source": []
  },
  {
   "cell_type": "code",
   "execution_count": null,
   "id": "17a8ffa8",
   "metadata": {},
   "outputs": [],
   "source": []
  }
 ],
 "metadata": {
  "kernelspec": {
   "display_name": "Python 3 (ipykernel)",
   "language": "python",
   "name": "python3"
  },
  "language_info": {
   "codemirror_mode": {
    "name": "ipython",
    "version": 3
   },
   "file_extension": ".py",
   "mimetype": "text/x-python",
   "name": "python",
   "nbconvert_exporter": "python",
   "pygments_lexer": "ipython3",
   "version": "3.11.4"
  }
 },
 "nbformat": 4,
 "nbformat_minor": 5
}
